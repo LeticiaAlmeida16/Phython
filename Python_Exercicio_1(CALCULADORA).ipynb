{
  "cells": [
    {
      "cell_type": "markdown",
      "metadata": {
        "id": "view-in-github",
        "colab_type": "text"
      },
      "source": [
        "<a href=\"https://colab.research.google.com/github/LeticiaAlmeida16/Phython/blob/main/Python_Exercicio_1(CALCULADORA).ipynb\" target=\"_parent\"><img src=\"https://colab.research.google.com/assets/colab-badge.svg\" alt=\"Open In Colab\"/></a>"
      ]
    },
    {
      "cell_type": "markdown",
      "metadata": {
        "id": "4jzanlkETIfw"
      },
      "source": [
        "# **1 - Usando os recursos que vimos até agora, elabore um programa simples que faça os cálculos matemáticos básicos de 2 numeros. Exemplo: 2+2 ou 2/2 etc.**\n",
        "\n",
        "\n",
        "a) o programa deve pedir ao usuário para digitar o nome completo e validar se ele digitou um nome completo para continua, senão abortar programa;\n",
        "\n",
        "b) o programa deve exibir um menu com as opções matemáticas para o usuário escolher, em seguida pedir para digitar os 2 números (um de cada vez);\n",
        "\n",
        "c) O programa deve exibir a resposta do cálculo com casas decimais e perguntar se o usuário deseja saír ou fazer um novo cálculo;\n",
        "\n",
        "d) Caso o usuário saia em algum momento do programa, devemos agradecer chamando ele apenas pelo primeiro nome, o histórico dos cálculos que ele fez e a data hora que ele encerrou;\n",
        "\n",
        "Dicas:\n",
        "\n",
        "- print(\"\") exibe texto;\n",
        "- print(\"\" + \"\") exibe concatenando textos;\n",
        "- print(\"\", \"\") exibe concatenando textos;\n",
        "- variavelLista = list() cria uma variavel sendo uma lista editavel;\n",
        "- try:  int(variavelX) força uma variável a se tornar um inteiro;\n",
        "- except ValueError: executa algo que queira se o try falhou com erro\n",
        "- float usado para números decimais;\n",
        "- from datetime import datetime importa biblioteca para usar data e hora;\n",
        "- input(\"Digite um valor\") cria um campo para o usuário digitar algo e armazena;\n",
        "- def cria uma função para retornar algum valor ou executar algo;\n",
        "- nomeDaFuncao() chama uma função;\n",
        "- if, elif, else: usado para condições e verificação de valores;\n",
        "- return encerra um if ou uma função;\n",
        "- [print(conteudo) for conteudo in variavelLista] exibe percorrendo uma lista;\n",
        "- .clear limpa uma lista\n",
        "- .insert(x,y) insere um valor em uma posição de uma lista\n",
        "- global nomeVariavel cria uma variavel para ser usada em todo o programa;\n",
        "- variavel.lower() mostra em minúscula\n",
        "- variavel.upper() mostra em maiúscula\n",
        "- variavel.split() recorta string ou lista em partes de acordo com parâmetro;\n",
        "- nomeLista[3] retorna o conteúdo da posição 4 da lista (indice 3)\n",
        "- datetime.today() retorna a data e hora em formato americano\n",
        "\n"
      ]
    },
    {
      "cell_type": "code",
      "execution_count": null,
      "metadata": {
        "id": "Nfe4NrDu-_81"
      },
      "outputs": [],
      "source": [
        "from datetime import datetime\n",
        "\n",
        "#pedir nome\n",
        "def nome_completo():\n",
        "    nome = input(\"Por favor, digite seu nome completo: \" )\n",
        "    listaNome = nome.split()\n",
        "    historico = \"\"\n",
        "    print(\"Olá\" , nome)\n",
        "    if listaNome == \"\":\n",
        "        print(\"Poxa! Você não digitou seu nome completo.Digite novamente\")\n",
        "        nome_completo()\n",
        "    elif len(listaNome) < 2:\n",
        "        print(\"Poxa! Você não digitou seu nome completo.Digite novamente\")\n",
        "        nome_completo()\n",
        "    elif len(listaNome) >= 2:\n",
        "        print(\"Você digitou seu nome completo!\")\n",
        "        menu(listaNome, historico)\n",
        "\n",
        "#usuario vai escolher a opcao de calculo\n",
        "def menu (listaNome, historico):\n",
        "    operacao= input('''Escolha a operação que deseja realizar:\n",
        "    1. Adição\n",
        "    2. Subtração\n",
        "    3. Multiplicação\n",
        "    4. Divisão\n",
        "    ''')\n",
        "    num1 = float(input(\"Digite o primeiro número: \"))\n",
        "    num2 = float(input(\"Digite o segundo número: \"))\n",
        "    if operacao == \"1\":\n",
        "      resultado = num1 + num2\n",
        "      print(\"O resultado da operação é: \", resultado)\n",
        "      historico = historico + \" ; \" + str(resultado)\n",
        "      sairouretornar(listaNome, historico)\n",
        "    elif operacao == \"2\":\n",
        "      resultado = num1 - num2\n",
        "      print(\"O resultado da operação é: \", resultado)\n",
        "      historico = historico + \" ; \" + str(resultado)\n",
        "      sairouretornar(listaNome, historico)\n",
        "    elif operacao == \"3\":\n",
        "      resultado = num1 * num2\n",
        "      print(\"O resultado da operação é: \", resultado)\n",
        "      historico = historico + \" ; \" + str(resultado)\n",
        "    elif operacao == \"4\":\n",
        "      resultado = num1 / num2\n",
        "      print(\"O resultado da operação é: \", resultado)\n",
        "      historico = historico + \" ; \" + str(resultado)\n",
        "      sairouretornar(listaNome, historico)\n",
        "    else:\n",
        "      print(\"Nenhuma opção de operação desejada\")\n",
        "\n",
        "#sair\n",
        "def sair(listaNome, historico):\n",
        "    horaData = datetime.today()\n",
        "    print((listaNome[0]), \", obrigada por utilizar nossa calculadora.\")\n",
        "    print(\"Seu histórico de operação é: \" ,historico)\n",
        "    print(\"Data e hora de encerramento: \" ,horaData)\n",
        "\n",
        "#sair apos operacao\n",
        "def sairouretornar (listaNome, historico):\n",
        "    opc = input('''Escolha a opção desejada:\n",
        "    1. sair\n",
        "    2. continuar''')\n",
        "    if opc == \"1\":\n",
        "      sair(listaNome, historico)\n",
        "    elif opc ==\"2\":\n",
        "      menu(listaNome, historico)\n",
        "\n",
        "print(\"Seja bem-vindo(a) a Cacul'elê.\")\n",
        "nome_completo()"
      ]
    }
  ],
  "metadata": {
    "colab": {
      "provenance": [],
      "include_colab_link": true
    },
    "kernelspec": {
      "display_name": "Python 3",
      "name": "python3"
    },
    "language_info": {
      "name": "python"
    }
  },
  "nbformat": 4,
  "nbformat_minor": 0
}